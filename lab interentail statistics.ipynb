{
 "cells": [
  {
   "cell_type": "code",
   "execution_count": null,
   "id": "9009c47c",
   "metadata": {},
   "outputs": [],
   "source": [
    "# Step 1: Define the null hypothesis\n",
    "# This is our assumption about the population. It is defined by H0 and in this case \n",
    "# null hypothesis -> H0: μ = μΟ\n",
    "# or better μ (population mean: 120 mm Hg) = μΟ (hypothesized-sample mean value: 130.1 mm Hg)\n",
    "\n",
    "# Step 2: Define the alternative hypothesis\n",
    "# This means, what if our assumption is not true. \n",
    "# alternative hypothesis -> H1 (or Ha): μ ≠ μΟ \n",
    "# or better μ (population mean: 120 mm Hg) ≠ μΟ (tested-sample mean value: 130.1 mm Hg)\n",
    "\n",
    "# Step 3: Determine if it is an one-tailed or a two-tailed test, it is a two-tailed test.\n",
    "# Two-tailed is when the mean tested (alternative hypothesis) can be > or < from the mean of the population.\n",
    "# In this case we are checking if the mean of the systolic blood pressure in the sample of n = 100 people in the Honolulu Heart\n",
    "# Study is significantly different (both,smaller or bigger) from the mean of the population (μ = 120 mm Hg)\n",
    "# from the first view, we can notice the difference 130.1-120=10.1\n",
    "# but is it significant difference for specific α-significant level?\n",
    "# Let's check it\n",
    "\n",
    "\n",
    "# Step 4: Decide a test statistics based on the information available.\n",
    "# Assuming data is normally distributed and number of observations are more than 30 (n = 100) and population variance is known\n",
    "# (since population standard deviation is provided),\n",
    "# and according to central limit theorem (The central limit theorem (CLT) states that the distribution of sample means\n",
    "# approximates a normal distribution as the sample size gets larger, regardless of the population's distribution.\n",
    "# Sample sizes equal to or greater than 30 are often considered sufficient for the CLT to hold)\n",
    "# we could use a z-test ( or t-test, as well). This test is based on a \"z-distribution\" which is the normal distribution\n",
    "# (or based on a \"t-distribution\"-student distribution).\n",
    "\n",
    "# Step 5: Level of significance: This defines the rejection region/critical region,\n",
    "# it's the probability of making the wrong decision when the null hypothesis is true.\n",
    "# Usually it is 0.05. It is defined by greek letter 'alpha'= άλφα. In the medical field like our case this could go down to 0.01.\n",
    "# We will use a=0.01\n",
    "# Step 6: Calculate the test statistic based on the given information\n",
    "# We only need to know the mean, the standard deviation of our distribution and then to find the z-score of the value.\n",
    "# so, Z-score formula: z=(X-μ)/σ (where Χ is the X bar of the sample, μ is the mean of our population's distribution\n",
    "# and σ the population's standard deviation)\n",
    "# in our case, Z-score: (130.1-120)/21.21 ≅ 0,476190\n",
    "(130.1-120)/21.21\n",
    "# or if we use t-test: t=(X-μ)/(σ/√n)=(130.1-120)/(21.21/√100)≅4.76190\n",
    "# (where t=t-statistic, X=x-bar=sample mean, µ= hypothesized mean, s= standard deviation of the sample and n= total number of the sample)\n",
    "import math\n",
    "(130.1-120)/(21.21/ math.sqrt(100))\n",
    "# if we use t-test, according to the t distribution table (https://www.tdistributiontable.com/) \n",
    "#  we have 99 degrees of freedom (df), we have to subtract 1 from the sample size. Therefore, df = n – 1 = 100 – 1 = 99.\n",
    "# it is a two-tail test and we define as alpha level (α) = 0.01, also known as the significance level,\n",
    "# which is the probability of rejecting the null hypothesis when it is true\n",
    "# after that we pick the respective column for two-tail from the table and \n",
    "# map the intersection of the values for the degrees of freedom (df) and the alpha level.\n",
    "# We found that t-critical value≅2.63\n",
    "# Thus, t-critical value≅2.63 < our t-test value≅4.76190, we could use Confidence Intervals for the t test and then\n",
    "# We can say with 99% of confidence that we have enough evidence to discard the null hypothesis.\n",
    "# so we reject the Null Hypothesis (μ = μΟ) and we accept the alternative\n",
    "# Thus, we have significant difference between the 2 means in our example, for α = 0.01"
   ]
  },
  {
   "cell_type": "code",
   "execution_count": 1,
   "id": "2fec73fe",
   "metadata": {},
   "outputs": [
    {
     "data": {
      "text/plain": [
       "4.761904761904759"
      ]
     },
     "execution_count": 1,
     "metadata": {},
     "output_type": "execute_result"
    }
   ],
   "source": [
    "# coding previous in Python\n",
    "import math\n",
    "\n",
    "sample_mean = 130.1 \n",
    "pop_mean = 120\n",
    "pop_std = 21.21\n",
    "n = 100\n",
    "\n",
    "statistic = (sample_mean - pop_mean)/(pop_std/math.sqrt(n))\n",
    "statistic"
   ]
  },
  {
   "cell_type": "code",
   "execution_count": null,
   "id": "8311b052",
   "metadata": {},
   "outputs": [],
   "source": [
    "- Ho: u=X\n",
    "- Ha: u!=X\n",
    "#As we can see in the following image:\n",
    "\n",
    "We have assumed that the data is normally distributed. \n",
    "With the calculated Z value (as the sample n>30) and a confidence interval alpha=0.05 we can reject the Ho hypothesis and assume that both mean systolic blood preassures are different, so we accept the alternative hypothesis H1."
   ]
  }
 ],
 "metadata": {
  "kernelspec": {
   "display_name": "Python 3 (ipykernel)",
   "language": "python",
   "name": "python3"
  },
  "language_info": {
   "codemirror_mode": {
    "name": "ipython",
    "version": 3
   },
   "file_extension": ".py",
   "mimetype": "text/x-python",
   "name": "python",
   "nbconvert_exporter": "python",
   "pygments_lexer": "ipython3",
   "version": "3.9.7"
  }
 },
 "nbformat": 4,
 "nbformat_minor": 5
}
